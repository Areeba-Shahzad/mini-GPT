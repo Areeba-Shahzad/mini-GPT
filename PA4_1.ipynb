{
 "cells": [
  {
   "cell_type": "markdown",
   "metadata": {},
   "source": [
    "# PA4 Part 1. Embeddings and Sentence Classification [30 Marks]\n",
    "\n",
    "<center>\n",
    "    <img src=\"./assets/embeddings.jpeg\">\n",
    "</center>\n",
    "\n",
    "### Introduction\n",
    "\n",
    "Embeddings are a way to represent words (or more generally, *tokens*) as vectors. These vectors are useful for many tasks in NLP, including but not limited to: Text Generation, Machine Translation, and Sentence Classification. In this notebook, we will be exploring the concept of Embeddings, and using them for Sentence Classification.\n",
    "\n",
    "After this notebook, you should be able to:\n",
    "\n",
    "- Understand the concepts of Embeddings and Vector Similarity.\n",
    "\n",
    "- Use pre-trained Embeddings for Sentence Classification.\n",
    "\n",
    "### Instructions\n",
    "\n",
    "- Follow along with the notebook, filling out the necessary code where instructed.\n",
    "\n",
    "- <span style=\"color: red;\">Read the Submission Instructions and Plagiarism Policy in the attached PDF.</span>\n",
    "\n",
    "- <span style=\"color: red;\">Make sure to run all cells for credit.</span>\n",
    "\n",
    "- <span style=\"color: red;\">Do not remove any pre-written code.</span> We will be using the `print` statements to grade your assignment.\n",
    "\n",
    "- <span style=\"color: red;\">You must attempt all parts.</span> Do not assume that because something is for 0 marks, you can leave it - it will definitely be used in later parts."
   ]
  },
  {
   "cell_type": "code",
   "execution_count": 1,
   "metadata": {},
   "outputs": [
    {
     "name": "stdout",
     "output_type": "stream",
     "text": [
      "Requirement already satisfied: gpt4all in c:\\users\\areeba shahzad\\anaconda3\\lib\\site-packages (2.0.2)\n",
      "Requirement already satisfied: requests in c:\\users\\areeba shahzad\\anaconda3\\lib\\site-packages (from gpt4all) (2.31.0)\n",
      "Requirement already satisfied: tqdm in c:\\users\\areeba shahzad\\anaconda3\\lib\\site-packages (from gpt4all) (4.65.0)\n",
      "Requirement already satisfied: charset-normalizer<4,>=2 in c:\\users\\areeba shahzad\\anaconda3\\lib\\site-packages (from requests->gpt4all) (2.0.4)\n",
      "Requirement already satisfied: idna<4,>=2.5 in c:\\users\\areeba shahzad\\anaconda3\\lib\\site-packages (from requests->gpt4all) (3.4)\n",
      "Requirement already satisfied: urllib3<3,>=1.21.1 in c:\\users\\areeba shahzad\\anaconda3\\lib\\site-packages (from requests->gpt4all) (1.26.16)\n",
      "Requirement already satisfied: certifi>=2017.4.17 in c:\\users\\areeba shahzad\\anaconda3\\lib\\site-packages (from requests->gpt4all) (2023.7.22)\n",
      "Requirement already satisfied: colorama in c:\\users\\areeba shahzad\\anaconda3\\lib\\site-packages (from tqdm->gpt4all) (0.4.6)\n",
      "Note: you may need to restart the kernel to use updated packages.\n"
     ]
    }
   ],
   "source": [
    "pip install gpt4all"
   ]
  },
  {
   "cell_type": "code",
   "execution_count": 2,
   "metadata": {},
   "outputs": [
    {
     "name": "stdout",
     "output_type": "stream",
     "text": [
      "Requirement already satisfied: torch in c:\\users\\areeba shahzad\\anaconda3\\lib\\site-packages (2.1.1)\n",
      "Requirement already satisfied: filelock in c:\\users\\areeba shahzad\\anaconda3\\lib\\site-packages (from torch) (3.9.0)\n",
      "Requirement already satisfied: typing-extensions in c:\\users\\areeba shahzad\\anaconda3\\lib\\site-packages (from torch) (4.7.1)\n",
      "Requirement already satisfied: sympy in c:\\users\\areeba shahzad\\anaconda3\\lib\\site-packages (from torch) (1.11.1)\n",
      "Requirement already satisfied: networkx in c:\\users\\areeba shahzad\\anaconda3\\lib\\site-packages (from torch) (3.1)\n",
      "Requirement already satisfied: jinja2 in c:\\users\\areeba shahzad\\anaconda3\\lib\\site-packages (from torch) (3.1.2)\n",
      "Requirement already satisfied: fsspec in c:\\users\\areeba shahzad\\anaconda3\\lib\\site-packages (from torch) (2023.4.0)\n",
      "Requirement already satisfied: MarkupSafe>=2.0 in c:\\users\\areeba shahzad\\anaconda3\\lib\\site-packages (from jinja2->torch) (2.1.1)\n",
      "Requirement already satisfied: mpmath>=0.19 in c:\\users\\areeba shahzad\\anaconda3\\lib\\site-packages (from sympy->torch) (1.3.0)\n",
      "Note: you may need to restart the kernel to use updated packages.\n"
     ]
    }
   ],
   "source": [
    "pip install torch"
   ]
  },
  {
   "cell_type": "code",
   "execution_count": 3,
   "metadata": {},
   "outputs": [
    {
     "name": "stderr",
     "output_type": "stream",
     "text": [
      "[nltk_data] Downloading package stopwords to C:\\Users\\Areeba\n",
      "[nltk_data]     Shahzad\\AppData\\Roaming\\nltk_data...\n",
      "[nltk_data]   Package stopwords is already up-to-date!\n",
      "[nltk_data] Downloading package wordnet to C:\\Users\\Areeba\n",
      "[nltk_data]     Shahzad\\AppData\\Roaming\\nltk_data...\n",
      "[nltk_data]   Package wordnet is already up-to-date!\n"
     ]
    },
    {
     "data": {
      "text/plain": [
       "True"
      ]
     },
     "execution_count": 3,
     "metadata": {},
     "output_type": "execute_result"
    }
   ],
   "source": [
    "import re\n",
    "\n",
    "import numpy as np\n",
    "import pandas as pd\n",
    "\n",
    "import nltk\n",
    "from nltk.corpus import stopwords\n",
    "\n",
    "from sklearn.model_selection import train_test_split\n",
    "\n",
    "import gensim.downloader as api\n",
    "from gensim.models.word2vec import Word2Vec\n",
    "\n",
    "from gpt4all import Embed4All\n",
    "\n",
    "import torch\n",
    "import torch.nn as nn\n",
    "\n",
    "nltk.download('stopwords')\n",
    "nltk.download('wordnet')"
   ]
  },
  {
   "cell_type": "code",
   "execution_count": 4,
   "metadata": {},
   "outputs": [
    {
     "name": "stdout",
     "output_type": "stream",
     "text": [
      "Requirement already satisfied: gpt4all in c:\\users\\areeba shahzad\\anaconda3\\lib\\site-packages (2.0.2)\n",
      "Requirement already satisfied: requests in c:\\users\\areeba shahzad\\anaconda3\\lib\\site-packages (from gpt4all) (2.31.0)\n",
      "Requirement already satisfied: tqdm in c:\\users\\areeba shahzad\\anaconda3\\lib\\site-packages (from gpt4all) (4.65.0)\n",
      "Requirement already satisfied: charset-normalizer<4,>=2 in c:\\users\\areeba shahzad\\anaconda3\\lib\\site-packages (from requests->gpt4all) (2.0.4)\n",
      "Requirement already satisfied: idna<4,>=2.5 in c:\\users\\areeba shahzad\\anaconda3\\lib\\site-packages (from requests->gpt4all) (3.4)\n",
      "Requirement already satisfied: urllib3<3,>=1.21.1 in c:\\users\\areeba shahzad\\anaconda3\\lib\\site-packages (from requests->gpt4all) (1.26.16)\n",
      "Requirement already satisfied: certifi>=2017.4.17 in c:\\users\\areeba shahzad\\anaconda3\\lib\\site-packages (from requests->gpt4all) (2023.7.22)\n",
      "Requirement already satisfied: colorama in c:\\users\\areeba shahzad\\anaconda3\\lib\\site-packages (from tqdm->gpt4all) (0.4.6)\n",
      "Note: you may need to restart the kernel to use updated packages.\n"
     ]
    }
   ],
   "source": [
    "pip install --upgrade gpt4all"
   ]
  },
  {
   "cell_type": "markdown",
   "metadata": {},
   "source": [
    "## Exploring Embeddings [10 Marks]\n",
    "\n",
    "Put simply, Embeddings are fixed-size **dense** vector representations of tokens in natural language. This means you can represent words as vectors, sentences as vectors, even other entities like entire graphs as vectors.\n",
    "\n",
    "So what really makes them different from something like One-Hot vectors?\n",
    "\n",
    "What's special is that they have semantic meaning baked into them. This means you can model relationships between entities in text, which itself leads to a lot of fun applications. All modern architectures make use of Embeddings in some way.\n",
    "\n",
    "You can read more about them [here](https://aman.ai/primers/ai/word-vectors/).\n",
    "\n",
    "We will be using *pretrained* Embeddings: this means that we will be using Embeddings that have already been trained on a large corpus of text. This is because training Embeddings from scratch is a very computationally expensive task, and we don't have the resources to do so. Fortunately, there were some good samaritans who have already done this for us, and we can use their publicly available Embeddings for our own tasks.\n",
    "\n",
    "\n",
    "This part will allow you to explore what Embeddings are. We will load in pretrained Embeddings here and examine some of their properties. If you're interested, feel free look up the [Word2Vec model](https://arxiv.org/abs/1301.3781): this is the model that was trained to give us the embeddings you will see below."
   ]
  },
  {
   "cell_type": "code",
   "execution_count": 5,
   "metadata": {},
   "outputs": [
    {
     "name": "stdout",
     "output_type": "stream",
     "text": [
      "Done loading word2vec model!\n"
     ]
    }
   ],
   "source": [
    "# Download the pretrained word2vec model (this may take a few minutes)\n",
    "corpus = api.load('text8')\n",
    "w2vmodel = Word2Vec(corpus)\n",
    "\n",
    "print(\"Done loading word2vec model!\")"
   ]
  },
  {
   "cell_type": "markdown",
   "metadata": {},
   "source": [
    "Now that we've loaded in the Embeddings, we can create an Embedding **layer** in PyTorch, `nn.Embedding`, that will perform the processing step for us.\n",
    "\n",
    "Note in the following cell how there is a given **vocab size** and **embedding dimension** for the model: this is important to note because some sets of Embeddings may be defined for a large set of words (a large vocab), whereas older ones perhaps have a smaller set (a small vocab); the Embedding dimension essentially tells us how many *features* have been learned for a given word, that will allow us to perform further processing on top of."
   ]
  },
  {
   "cell_type": "code",
   "execution_count": 6,
   "metadata": {},
   "outputs": [
    {
     "name": "stdout",
     "output_type": "stream",
     "text": [
      "Vocab size: 71290\n",
      "Some of the words in the vocabulary:\n",
      "['the', 'of', 'and', 'one', 'in', 'a', 'to', 'zero', 'nine', 'two']\n",
      "Embedding dimension: 100\n"
     ]
    }
   ],
   "source": [
    "# Define embedding layer using gensim\n",
    "embedding_layer = nn.Embedding.from_pretrained(torch.FloatTensor(w2vmodel.wv.vectors))\n",
    "\n",
    "# Get some information from the w2vmodel\n",
    "print(f\"Vocab size: {len(w2vmodel.wv.key_to_index)}\")\n",
    "\n",
    "print(f\"Some of the words in the vocabulary:\\n{list(w2vmodel.wv.key_to_index.keys())[:10]}\")\n",
    "\n",
    "print(f\"Embedding dimension: {w2vmodel.wv.vectors.shape[1]}\")"
   ]
  },
  {
   "cell_type": "markdown",
   "metadata": {},
   "source": [
    "Now, for a demonstration, we instantiate two words, turn them into numbers (encoding them via their index in the vocab), and pass them through the Embedding layer. \n",
    "\n",
    "Note how the resultant Embeddings both have the same shape: 1 word, and 100 elements in the vector."
   ]
  },
  {
   "cell_type": "code",
   "execution_count": 7,
   "metadata": {},
   "outputs": [
    {
     "name": "stdout",
     "output_type": "stream",
     "text": [
      "Embedding Shape for 'king': torch.Size([1, 100])\n",
      "Embedding Shape for 'queen': torch.Size([1, 100])\n"
     ]
    }
   ],
   "source": [
    "# Take two words and get their embeddings\n",
    "word1 = \"king\"\n",
    "word2 = \"queen\"\n",
    "\n",
    "def word2vec(word):\n",
    "    return embedding_layer(torch.LongTensor([w2vmodel.wv.key_to_index[word]]))\n",
    "\n",
    "king_embedding = word2vec(word1)\n",
    "queen_embedding = word2vec(word2)\n",
    "\n",
    "print(f\"Embedding Shape for '{word1}': {king_embedding.shape}\")\n",
    "print(f\"Embedding Shape for '{word2}': {queen_embedding.shape}\")"
   ]
  },
  {
   "cell_type": "markdown",
   "metadata": {},
   "source": [
    "When we have vectors whose scale is arbitrary, one nice way to measure how *similar* they are is with the Cosine Similarity measure.\n",
    "\n",
    "\n",
    "$$ \\text{Cosine Similarity}(\\mathbf{u},\\mathbf{v}) = \\frac{\\mathbf{u} \\cdot \\mathbf{v}}{\\|\\mathbf{u}\\| \\|\\mathbf{v}\\|} $$\n",
    "\n",
    "\n",
    "We can apply this idea to our Embeddings. To see how \"similar\" two words are to the model, we can generate their Embeddings and take the Cosine Similarity of them. This will be a number between -1 and 1 (just like the range of the cosine function). When the number is close to 0, the words are not similar."
   ]
  },
  {
   "cell_type": "code",
   "execution_count": 8,
   "metadata": {},
   "outputs": [
    {
     "name": "stdout",
     "output_type": "stream",
     "text": [
      "Similarity between 'orange' and 'man': 0.10956886410713196\n",
      "Similarity between 'orange' and 'lemon': 0.6112604141235352\n"
     ]
    }
   ],
   "source": [
    "def cosine_similarity(vec1, vec2):\n",
    "    '''\n",
    "    Computes the cosine similarity between two vectors\n",
    "    '''\n",
    "\n",
    "    # TODO: Compute the cosine similarity between the two vectors (using PyTorch)\n",
    "    \n",
    "    # dot product \n",
    "    dot_prod = torch.sum(vec1 * vec2)\n",
    "    \n",
    "    # magnitudes\n",
    "    mag_1 = torch.sqrt(torch.sum(vec1 ** 2))\n",
    "    mag_2 = torch.sqrt(torch.sum(vec2 ** 2))    \n",
    "    \n",
    "    # division by zero case\n",
    "    if mag_1.item() * mag_2.item() == 0:\n",
    "        return 0\n",
    "    \n",
    "    # cosine similarity\n",
    "    cos_sim = dot_prod / (mag_1 * mag_2)\n",
    "    \n",
    "    return cos_sim.item()\n",
    "\n",
    "def compute_word_similarity(word1, word2):\n",
    "    '''\n",
    "    Takes in two words, computes their embeddings and returns the cosine similarity\n",
    "    '''\n",
    "    \n",
    "    # embeddings of words passed as args\n",
    "    emb_1 = word2vec(word1)\n",
    "    emb_2 = word2vec(word2)\n",
    "    \n",
    "    # cosine similarity\n",
    "    cos_sim = cosine_similarity(emb_1, emb_2)\n",
    "    \n",
    "    return cos_sim\n",
    "\n",
    "# TODO: Define three words (one pair should be similar and one pair should be dissimilar) and compute their similarity\n",
    "word1 = \"orange\"\n",
    "word2 = \"man\"\n",
    "word3 = \"lemon\"\n",
    "print(f\"Similarity between '{word1}' and '{word2}': {compute_word_similarity(word1, word2)}\")\n",
    "print(f\"Similarity between '{word1}' and '{word3}': {compute_word_similarity(word1, word3)}\")"
   ]
  },
  {
   "cell_type": "code",
   "execution_count": 9,
   "metadata": {},
   "outputs": [],
   "source": [
    "# Run this cell if you're done with the above section\n",
    "del embedding_layer"
   ]
  },
  {
   "cell_type": "markdown",
   "metadata": {},
   "source": [
    "## Sentence Classification Classification with Sentence Embeddings [20 Marks]\n",
    "\n",
    "Now let's move on to an actual application: classifying whether a tweet is about a real disaster or not. As you can imagine, this could be a valuable model when monitoring social media for disaster relief efforts.\n",
    "\n",
    "Since we are using Sentence Embeddings, we want something that will take in a sequence of words and throw out a single fixed-size vector. For this task, we will make use of an LLM via the `gpt4all` library.\n",
    "\n",
    "This library will allow us to generate pretrained embeddings for sentences, that we can use as **features** to feed to any classifier of our choice."
   ]
  },
  {
   "cell_type": "code",
   "execution_count": 10,
   "metadata": {},
   "outputs": [
    {
     "name": "stdout",
     "output_type": "stream",
     "text": [
      "(6090, 2) (1523, 2)\n"
     ]
    }
   ],
   "source": [
    "# Read in the data here\n",
    "df = pd.read_csv(\"./disaster_tweets.csv\")\n",
    "df = df[[\"text\", \"target\"]]\n",
    "\n",
    "# Split the data\n",
    "train , val = train_test_split(df, test_size = 0.2, random_state = 42)\n",
    "print(train.shape, val.shape)"
   ]
  },
  {
   "cell_type": "markdown",
   "metadata": {},
   "source": [
    "Before jumping straight to Embeddings, since our data is sourced from the cesspool that is Twitter, we should probably do some cleaning. This can involve the removal of URLs, punctuation, numbers that don't provide any meaning, stopwords, and so on.'\n",
    "\n",
    "In the following cell, write functions to clean the sentences. You are allowed to add more functions if you wish, but the ones provided are the bare minimum.\n",
    "\n",
    "**Note:** After cleaning your sentences, it is possible that you may end up with empty sentences (or some that are so short they have lost all meaning). In this event, since we want to demonstrate setting up a Sentence Classification task, you should remove them from your dataset (data cleaning is not the center of this notebook)."
   ]
  },
  {
   "cell_type": "code",
   "execution_count": 11,
   "metadata": {},
   "outputs": [],
   "source": [
    "# TODO: Clean the sentences (5 marks)\n",
    "\n",
    "\n",
    "# TODO: Fill out the following functions, adding more if desired\n",
    "\n",
    "def lowercase(txt):\n",
    "    \n",
    "    return txt.lower()\n",
    "\n",
    "def remove_punctuation(txt):\n",
    "    \n",
    "    return re.sub(r'[^\\w\\s]', '', txt)\n",
    "\n",
    "def remove_stopwords(txt):\n",
    "    \n",
    "    stop_words = set(stopwords.words('english'))\n",
    "    tokens = txt.split()\n",
    "    tokens = [word for word in tokens if word.lower() not in stop_words]\n",
    "    \n",
    "    return ' '.join(tokens)\n",
    "\n",
    "def remove_numbers(txt):\n",
    "    \n",
    "    return re.sub(r'\\d+', '', txt)\n",
    "\n",
    "def remove_url(txt):\n",
    "    \n",
    "    return re.sub(r'https\\S+', '', txt)\n",
    "\n",
    "def normalize_sentence(txt):\n",
    "    '''\n",
    "    Aggregates all the above functions to normalize/clean a sentence\n",
    "    '''\n",
    "    txt = lowercase(txt)\n",
    "    txt = remove_punctuation(txt)\n",
    "    txt = remove_stopwords(txt)\n",
    "    txt = remove_numbers(txt)\n",
    "    txt = remove_url(txt)\n",
    "    \n",
    "    return txt\n",
    "\n",
    "# TODO: Clean the sentences\n",
    "\n",
    "# TODO: Filter sentences that are too short (less than 20ish characters)\n",
    "\n",
    "def clean_sentence (df):\n",
    "    df['cleaned_text'] = df['text'].apply(normalize_sentence)\n",
    "    return df[df['cleaned_text'].str.len() >= 20]\n",
    "\n",
    "# clean dataset\n",
    "\n",
    "train = clean_sentence(train)\n",
    "val = clean_sentence(val)\n"
   ]
  },
  {
   "cell_type": "markdown",
   "metadata": {},
   "source": [
    "Now for the fun part, creating our Embeddings!\n",
    "\n",
    "We will be using the `gpt4all.Embed4All` class for this purpose. You can look up the documentation [here](https://docs.gpt4all.io/gpt4all_python_embedding.html#gpt4all.gpt4all.Embed4All.embed).\n",
    "\n",
    "This functionality makes use of a model called [Sentence-BERT](https://arxiv.org/abs/1908.10084). This is a Transformer-based model that has been trained on a large corpus of text, and is able to generate high-quality Sentence Embeddings for us."
   ]
  },
  {
   "cell_type": "code",
   "execution_count": 12,
   "metadata": {},
   "outputs": [],
   "source": [
    "# TODO: Generate embeddings for train and validation sentences (5 marks)\n",
    "\n",
    "feature_extractor = Embed4All()\n",
    "\n",
    "# TODO: Encode the train samples\n",
    "\n",
    "# TODO: Encode the train sentences\n",
    "train_emb = [feature_extractor.embed(sentence) for sentence in train['cleaned_text'].tolist()]\n",
    "\n",
    "# TODO: Encode the validation samples\n",
    "val_emb = [feature_extractor.embed(sentence) for sentence in val['cleaned_text'].tolist()]\n",
    "\n",
    "# TODO: Ready the labels\n",
    "\n",
    "train_labels = train['target'].values\n",
    "val_labels = val['target'].values\n"
   ]
  },
  {
   "cell_type": "markdown",
   "metadata": {},
   "source": [
    "Now with our Embeddings ready, we can move on to the actual classification task.\n",
    "\n",
    "You have the choice of using **any** classifier you wish. You can use a simple Logistic Regression model, get fancy with Support Vector Machines, or even use a Neural Network. The choice is yours.\n",
    "\n",
    "We will be looking for a model with a **Validation Accuracy** of around $0.8$. You must also use this model to make predictions on your own provided inputs, after completing the `predict` function."
   ]
  },
  {
   "cell_type": "code",
   "execution_count": 13,
   "metadata": {},
   "outputs": [
    {
     "name": "stdout",
     "output_type": "stream",
     "text": [
      "Validation Accuracy: 0.8059499661933739\n"
     ]
    }
   ],
   "source": [
    "from sklearn.linear_model import LogisticRegression\n",
    "from sklearn.metrics import accuracy_score, classification_report\n",
    "# TODO: Get 0.8 Validation Acc with a Classifier (5 marks)\n",
    "\n",
    "# Defining classifier\n",
    "clf = LogisticRegression(random_state=42)\n",
    "\n",
    "# Training classifier\n",
    "clf.fit(train_emb, train_labels)\n",
    "\n",
    "# Evaluation\n",
    "val_preds = clf.predict(val_emb)\n",
    "val_accuracy = accuracy_score(val_labels, val_preds)\n",
    "print(\"Validation Accuracy:\", val_accuracy)"
   ]
  },
  {
   "cell_type": "code",
   "execution_count": 14,
   "metadata": {},
   "outputs": [
    {
     "ename": "ValueError",
     "evalue": "Text must not be None or empty",
     "output_type": "error",
     "traceback": [
      "\u001b[1;31m---------------------------------------------------------------------------\u001b[0m",
      "\u001b[1;31mValueError\u001b[0m                                Traceback (most recent call last)",
      "Cell \u001b[1;32mIn[14], line 25\u001b[0m\n\u001b[0;32m     23\u001b[0m \u001b[38;5;66;03m# TODO: Predict on a few of your own sentences\u001b[39;00m\n\u001b[0;32m     24\u001b[0m predict_sentence \u001b[38;5;241m=\u001b[39m \u001b[38;5;124m\"\u001b[39m\u001b[38;5;124mthe\u001b[39m\u001b[38;5;124m\"\u001b[39m\n\u001b[1;32m---> 25\u001b[0m prediction \u001b[38;5;241m=\u001b[39m predict(predict_sentence, clf)\n\u001b[0;32m     26\u001b[0m \u001b[38;5;28mprint\u001b[39m(\u001b[38;5;124m\"\u001b[39m\u001b[38;5;124mPrediction:\u001b[39m\u001b[38;5;124m\"\u001b[39m, prediction)\n\u001b[0;32m     27\u001b[0m predict_sentence \u001b[38;5;241m=\u001b[39m \u001b[38;5;124m\"\u001b[39m\u001b[38;5;124mi like apple juice\u001b[39m\u001b[38;5;124m\"\u001b[39m\n",
      "Cell \u001b[1;32mIn[14], line 11\u001b[0m, in \u001b[0;36mpredict\u001b[1;34m(sentence, clf)\u001b[0m\n\u001b[0;32m      8\u001b[0m \u001b[38;5;66;03m# TODO: Clean and encode the sentence\u001b[39;00m\n\u001b[0;32m     10\u001b[0m cleaned_sentence \u001b[38;5;241m=\u001b[39m normalize_sentence(sentence)\n\u001b[1;32m---> 11\u001b[0m embedding \u001b[38;5;241m=\u001b[39m feature_extractor\u001b[38;5;241m.\u001b[39membed(cleaned_sentence)\n\u001b[0;32m     12\u001b[0m prob \u001b[38;5;241m=\u001b[39m clf\u001b[38;5;241m.\u001b[39mpredict_proba([embedding])[\u001b[38;5;241m0\u001b[39m]\n\u001b[0;32m     13\u001b[0m predicted_class \u001b[38;5;241m=\u001b[39m clf\u001b[38;5;241m.\u001b[39mpredict([embedding])[\u001b[38;5;241m0\u001b[39m]\n",
      "File \u001b[1;32m~\\anaconda3\\Lib\\site-packages\\gpt4all\\gpt4all.py:56\u001b[0m, in \u001b[0;36mEmbed4All.embed\u001b[1;34m(self, text)\u001b[0m\n\u001b[0;32m     46\u001b[0m \u001b[38;5;28;01mdef\u001b[39;00m \u001b[38;5;21membed\u001b[39m(\u001b[38;5;28mself\u001b[39m, text: \u001b[38;5;28mstr\u001b[39m) \u001b[38;5;241m-\u001b[39m\u001b[38;5;241m>\u001b[39m List[\u001b[38;5;28mfloat\u001b[39m]:\n\u001b[0;32m     47\u001b[0m \u001b[38;5;250m    \u001b[39m\u001b[38;5;124;03m\"\"\"\u001b[39;00m\n\u001b[0;32m     48\u001b[0m \u001b[38;5;124;03m    Generate an embedding.\u001b[39;00m\n\u001b[0;32m     49\u001b[0m \n\u001b[1;32m   (...)\u001b[0m\n\u001b[0;32m     54\u001b[0m \u001b[38;5;124;03m        An embedding of your document of text.\u001b[39;00m\n\u001b[0;32m     55\u001b[0m \u001b[38;5;124;03m    \"\"\"\u001b[39;00m\n\u001b[1;32m---> 56\u001b[0m     \u001b[38;5;28;01mreturn\u001b[39;00m \u001b[38;5;28mself\u001b[39m\u001b[38;5;241m.\u001b[39mgpt4all\u001b[38;5;241m.\u001b[39mmodel\u001b[38;5;241m.\u001b[39mgenerate_embedding(text)\n",
      "File \u001b[1;32m~\\anaconda3\\Lib\\site-packages\\gpt4all\\pyllmodel.py:323\u001b[0m, in \u001b[0;36mLLModel.generate_embedding\u001b[1;34m(self, text)\u001b[0m\n\u001b[0;32m    321\u001b[0m \u001b[38;5;28;01mdef\u001b[39;00m \u001b[38;5;21mgenerate_embedding\u001b[39m(\u001b[38;5;28mself\u001b[39m, text: \u001b[38;5;28mstr\u001b[39m) \u001b[38;5;241m-\u001b[39m\u001b[38;5;241m>\u001b[39m List[\u001b[38;5;28mfloat\u001b[39m]:\n\u001b[0;32m    322\u001b[0m     \u001b[38;5;28;01mif\u001b[39;00m \u001b[38;5;129;01mnot\u001b[39;00m text:\n\u001b[1;32m--> 323\u001b[0m         \u001b[38;5;28;01mraise\u001b[39;00m \u001b[38;5;167;01mValueError\u001b[39;00m(\u001b[38;5;124m\"\u001b[39m\u001b[38;5;124mText must not be None or empty\u001b[39m\u001b[38;5;124m\"\u001b[39m)\n\u001b[0;32m    325\u001b[0m     embedding_size \u001b[38;5;241m=\u001b[39m ctypes\u001b[38;5;241m.\u001b[39mc_size_t()\n\u001b[0;32m    326\u001b[0m     c_text \u001b[38;5;241m=\u001b[39m ctypes\u001b[38;5;241m.\u001b[39mc_char_p(text\u001b[38;5;241m.\u001b[39mencode(\u001b[38;5;124m'\u001b[39m\u001b[38;5;124mutf-8\u001b[39m\u001b[38;5;124m'\u001b[39m))\n",
      "\u001b[1;31mValueError\u001b[0m: Text must not be None or empty"
     ]
    }
   ],
   "source": [
    "# TODO: Create a function to predict on a sentence (5 marks)\n",
    "\n",
    "def predict(sentence, clf):\n",
    "    '''\n",
    "    Takes in a sentence and returns the predicted class along with the probability\n",
    "    '''\n",
    "        \n",
    "    # TODO: Clean and encode the sentence\n",
    "    \n",
    "    cleaned_sentence = normalize_sentence(sentence)\n",
    "    embedding = feature_extractor.embed(cleaned_sentence)\n",
    "    prob = clf.predict_proba([embedding])[0]\n",
    "    predicted_class = clf.predict([embedding])[0]\n",
    "    \n",
    "    # TODO: Predict the class and probability\n",
    "\n",
    "    return {\n",
    "        'Predicted class': predicted_class,\n",
    "        'Probability': max(prob),\n",
    "    }\n",
    "\n",
    "    \n",
    "# TODO: Predict on a few of your own sentences\n",
    "predict_sentence = \"the\"\n",
    "prediction = predict(predict_sentence, clf)\n",
    "print(\"Prediction:\", prediction)\n",
    "predict_sentence = \"i like apple juice\"\n",
    "prediction = predict(predict_sentence, clf)\n",
    "print(\"Prediction:\", prediction)"
   ]
  },
  {
   "cell_type": "markdown",
   "metadata": {},
   "source": [
    "Hopefully now you realize the power of Embeddings, and the usefulness of pretrained models.\n",
    "\n",
    "# Fin."
   ]
  }
 ],
 "metadata": {
  "kernelspec": {
   "display_name": "Python 3 (ipykernel)",
   "language": "python",
   "name": "python3"
  },
  "language_info": {
   "codemirror_mode": {
    "name": "ipython",
    "version": 3
   },
   "file_extension": ".py",
   "mimetype": "text/x-python",
   "name": "python",
   "nbconvert_exporter": "python",
   "pygments_lexer": "ipython3",
   "version": "3.11.5"
  },
  "vscode": {
   "interpreter": {
    "hash": "bbe381b710e5d3541ca1e32a0f143d44d9fc319722adcf51c48d4250c2e9fef8"
   }
  }
 },
 "nbformat": 4,
 "nbformat_minor": 2
}
